{
  "nbformat": 4,
  "nbformat_minor": 0,
  "metadata": {
    "colab": {
      "name": "Chapter5_Problem_5_MAINGOCDAU_201055735.ipynb",
      "provenance": []
    },
    "kernelspec": {
      "name": "python3",
      "display_name": "Python 3"
    }
  },
  "cells": [
    {
      "cell_type": "markdown",
      "metadata": {
        "id": "gNTH9_WAw3o0"
      },
      "source": [
        "# ***`5. In Chapter 4, we used logistic regression to predict the probability of default using income and balance on the Default data set. We will now estimate the test error of this logistic regression model using the validation set approach. Do not forget to set a random seed before beginning your analysis.`***"
      ]
    },
    {
      "cell_type": "code",
      "metadata": {
        "id": "cdnhseWQzqbu"
      },
      "source": [
        "import numpy as np\n",
        "import pandas as pd\n",
        "import statsmodels.api as sm\n",
        "import matplotlib.pyplot as plt\n",
        "import seaborn as sns\n",
        "import statsmodels.formula.api as smf\n",
        "from sklearn.model_selection import train_test_split"
      ],
      "execution_count": null,
      "outputs": []
    },
    {
      "cell_type": "code",
      "metadata": {
        "colab": {
          "base_uri": "https://localhost:8080/",
          "height": 419
        },
        "id": "ki_VrhYQ0FkN",
        "outputId": "2a950c3a-00a7-46f0-9ef1-6888388d3a3e"
      },
      "source": [
        "Default_Data = pd.read_csv(\"Default.csv\")\n",
        "Default_Data"
      ],
      "execution_count": null,
      "outputs": [
        {
          "output_type": "execute_result",
          "data": {
            "text/html": [
              "<div>\n",
              "<style scoped>\n",
              "    .dataframe tbody tr th:only-of-type {\n",
              "        vertical-align: middle;\n",
              "    }\n",
              "\n",
              "    .dataframe tbody tr th {\n",
              "        vertical-align: top;\n",
              "    }\n",
              "\n",
              "    .dataframe thead th {\n",
              "        text-align: right;\n",
              "    }\n",
              "</style>\n",
              "<table border=\"1\" class=\"dataframe\">\n",
              "  <thead>\n",
              "    <tr style=\"text-align: right;\">\n",
              "      <th></th>\n",
              "      <th>default</th>\n",
              "      <th>student</th>\n",
              "      <th>balance</th>\n",
              "      <th>income</th>\n",
              "    </tr>\n",
              "  </thead>\n",
              "  <tbody>\n",
              "    <tr>\n",
              "      <th>0</th>\n",
              "      <td>No</td>\n",
              "      <td>No</td>\n",
              "      <td>729.526495</td>\n",
              "      <td>44361.625074</td>\n",
              "    </tr>\n",
              "    <tr>\n",
              "      <th>1</th>\n",
              "      <td>No</td>\n",
              "      <td>Yes</td>\n",
              "      <td>817.180407</td>\n",
              "      <td>12106.134700</td>\n",
              "    </tr>\n",
              "    <tr>\n",
              "      <th>2</th>\n",
              "      <td>No</td>\n",
              "      <td>No</td>\n",
              "      <td>1073.549164</td>\n",
              "      <td>31767.138947</td>\n",
              "    </tr>\n",
              "    <tr>\n",
              "      <th>3</th>\n",
              "      <td>No</td>\n",
              "      <td>No</td>\n",
              "      <td>529.250605</td>\n",
              "      <td>35704.493935</td>\n",
              "    </tr>\n",
              "    <tr>\n",
              "      <th>4</th>\n",
              "      <td>No</td>\n",
              "      <td>No</td>\n",
              "      <td>785.655883</td>\n",
              "      <td>38463.495879</td>\n",
              "    </tr>\n",
              "    <tr>\n",
              "      <th>...</th>\n",
              "      <td>...</td>\n",
              "      <td>...</td>\n",
              "      <td>...</td>\n",
              "      <td>...</td>\n",
              "    </tr>\n",
              "    <tr>\n",
              "      <th>9995</th>\n",
              "      <td>No</td>\n",
              "      <td>No</td>\n",
              "      <td>711.555020</td>\n",
              "      <td>52992.378914</td>\n",
              "    </tr>\n",
              "    <tr>\n",
              "      <th>9996</th>\n",
              "      <td>No</td>\n",
              "      <td>No</td>\n",
              "      <td>757.962918</td>\n",
              "      <td>19660.721768</td>\n",
              "    </tr>\n",
              "    <tr>\n",
              "      <th>9997</th>\n",
              "      <td>No</td>\n",
              "      <td>No</td>\n",
              "      <td>845.411989</td>\n",
              "      <td>58636.156984</td>\n",
              "    </tr>\n",
              "    <tr>\n",
              "      <th>9998</th>\n",
              "      <td>No</td>\n",
              "      <td>No</td>\n",
              "      <td>1569.009053</td>\n",
              "      <td>36669.112365</td>\n",
              "    </tr>\n",
              "    <tr>\n",
              "      <th>9999</th>\n",
              "      <td>No</td>\n",
              "      <td>Yes</td>\n",
              "      <td>200.922183</td>\n",
              "      <td>16862.952321</td>\n",
              "    </tr>\n",
              "  </tbody>\n",
              "</table>\n",
              "<p>10000 rows × 4 columns</p>\n",
              "</div>"
            ],
            "text/plain": [
              "     default student      balance        income\n",
              "0         No      No   729.526495  44361.625074\n",
              "1         No     Yes   817.180407  12106.134700\n",
              "2         No      No  1073.549164  31767.138947\n",
              "3         No      No   529.250605  35704.493935\n",
              "4         No      No   785.655883  38463.495879\n",
              "...      ...     ...          ...           ...\n",
              "9995      No      No   711.555020  52992.378914\n",
              "9996      No      No   757.962918  19660.721768\n",
              "9997      No      No   845.411989  58636.156984\n",
              "9998      No      No  1569.009053  36669.112365\n",
              "9999      No     Yes   200.922183  16862.952321\n",
              "\n",
              "[10000 rows x 4 columns]"
            ]
          },
          "metadata": {
            "tags": []
          },
          "execution_count": 14
        }
      ]
    },
    {
      "cell_type": "code",
      "metadata": {
        "colab": {
          "base_uri": "https://localhost:8080/",
          "height": 419
        },
        "id": "TNhBPQTr8Sor",
        "outputId": "d6ef6d66-9c43-4937-f4d6-05409a0ca29c"
      },
      "source": [
        "Default_Data[\"binary_default\"] = Default_Data[\"default\"].map({'Yes':1, \"No\":0})\n",
        "Default_Data[Default_Data[\"binary_default\"] ==1]"
      ],
      "execution_count": null,
      "outputs": [
        {
          "output_type": "execute_result",
          "data": {
            "text/html": [
              "<div>\n",
              "<style scoped>\n",
              "    .dataframe tbody tr th:only-of-type {\n",
              "        vertical-align: middle;\n",
              "    }\n",
              "\n",
              "    .dataframe tbody tr th {\n",
              "        vertical-align: top;\n",
              "    }\n",
              "\n",
              "    .dataframe thead th {\n",
              "        text-align: right;\n",
              "    }\n",
              "</style>\n",
              "<table border=\"1\" class=\"dataframe\">\n",
              "  <thead>\n",
              "    <tr style=\"text-align: right;\">\n",
              "      <th></th>\n",
              "      <th>default</th>\n",
              "      <th>student</th>\n",
              "      <th>balance</th>\n",
              "      <th>income</th>\n",
              "      <th>binary_default</th>\n",
              "    </tr>\n",
              "  </thead>\n",
              "  <tbody>\n",
              "    <tr>\n",
              "      <th>136</th>\n",
              "      <td>Yes</td>\n",
              "      <td>Yes</td>\n",
              "      <td>1486.998122</td>\n",
              "      <td>17854.397028</td>\n",
              "      <td>1</td>\n",
              "    </tr>\n",
              "    <tr>\n",
              "      <th>173</th>\n",
              "      <td>Yes</td>\n",
              "      <td>Yes</td>\n",
              "      <td>2205.799521</td>\n",
              "      <td>14271.492253</td>\n",
              "      <td>1</td>\n",
              "    </tr>\n",
              "    <tr>\n",
              "      <th>201</th>\n",
              "      <td>Yes</td>\n",
              "      <td>Yes</td>\n",
              "      <td>1774.694223</td>\n",
              "      <td>20359.506086</td>\n",
              "      <td>1</td>\n",
              "    </tr>\n",
              "    <tr>\n",
              "      <th>206</th>\n",
              "      <td>Yes</td>\n",
              "      <td>No</td>\n",
              "      <td>1889.599190</td>\n",
              "      <td>48956.171589</td>\n",
              "      <td>1</td>\n",
              "    </tr>\n",
              "    <tr>\n",
              "      <th>209</th>\n",
              "      <td>Yes</td>\n",
              "      <td>Yes</td>\n",
              "      <td>1899.390626</td>\n",
              "      <td>20655.200003</td>\n",
              "      <td>1</td>\n",
              "    </tr>\n",
              "    <tr>\n",
              "      <th>...</th>\n",
              "      <td>...</td>\n",
              "      <td>...</td>\n",
              "      <td>...</td>\n",
              "      <td>...</td>\n",
              "      <td>...</td>\n",
              "    </tr>\n",
              "    <tr>\n",
              "      <th>9912</th>\n",
              "      <td>Yes</td>\n",
              "      <td>No</td>\n",
              "      <td>2148.898454</td>\n",
              "      <td>44309.917173</td>\n",
              "      <td>1</td>\n",
              "    </tr>\n",
              "    <tr>\n",
              "      <th>9921</th>\n",
              "      <td>Yes</td>\n",
              "      <td>Yes</td>\n",
              "      <td>1627.898323</td>\n",
              "      <td>17546.997016</td>\n",
              "      <td>1</td>\n",
              "    </tr>\n",
              "    <tr>\n",
              "      <th>9949</th>\n",
              "      <td>Yes</td>\n",
              "      <td>No</td>\n",
              "      <td>1750.253150</td>\n",
              "      <td>51578.940163</td>\n",
              "      <td>1</td>\n",
              "    </tr>\n",
              "    <tr>\n",
              "      <th>9951</th>\n",
              "      <td>Yes</td>\n",
              "      <td>No</td>\n",
              "      <td>1515.606239</td>\n",
              "      <td>48688.512086</td>\n",
              "      <td>1</td>\n",
              "    </tr>\n",
              "    <tr>\n",
              "      <th>9978</th>\n",
              "      <td>Yes</td>\n",
              "      <td>No</td>\n",
              "      <td>2202.462395</td>\n",
              "      <td>47287.257108</td>\n",
              "      <td>1</td>\n",
              "    </tr>\n",
              "  </tbody>\n",
              "</table>\n",
              "<p>333 rows × 5 columns</p>\n",
              "</div>"
            ],
            "text/plain": [
              "     default student      balance        income  binary_default\n",
              "136      Yes     Yes  1486.998122  17854.397028               1\n",
              "173      Yes     Yes  2205.799521  14271.492253               1\n",
              "201      Yes     Yes  1774.694223  20359.506086               1\n",
              "206      Yes      No  1889.599190  48956.171589               1\n",
              "209      Yes     Yes  1899.390626  20655.200003               1\n",
              "...      ...     ...          ...           ...             ...\n",
              "9912     Yes      No  2148.898454  44309.917173               1\n",
              "9921     Yes     Yes  1627.898323  17546.997016               1\n",
              "9949     Yes      No  1750.253150  51578.940163               1\n",
              "9951     Yes      No  1515.606239  48688.512086               1\n",
              "9978     Yes      No  2202.462395  47287.257108               1\n",
              "\n",
              "[333 rows x 5 columns]"
            ]
          },
          "metadata": {
            "tags": []
          },
          "execution_count": 16
        }
      ]
    },
    {
      "cell_type": "code",
      "metadata": {
        "colab": {
          "base_uri": "https://localhost:8080/",
          "height": 567
        },
        "id": "QaPvmxc-CLng",
        "outputId": "1ae975c3-0766-4a04-f3b4-729548abe31d"
      },
      "source": [
        "sns.pairplot(Default_Data)"
      ],
      "execution_count": null,
      "outputs": [
        {
          "output_type": "execute_result",
          "data": {
            "text/plain": [
              "<seaborn.axisgrid.PairGrid at 0x7f002dc2e6d8>"
            ]
          },
          "metadata": {
            "tags": []
          },
          "execution_count": 17
        },
        {
          "output_type": "display_data",
          "data": {
            "image/png": "[encoded data removed]",
            "text/plain": [
              "<Figure size 540x540 with 12 Axes>"
            ]
          },
          "metadata": {
            "tags": [],
            "needs_background": "light"
          }
        }
      ]
    },
    {
      "cell_type": "markdown",
      "metadata": {
        "id": "5LFtxULSxKYL"
      },
      "source": [
        "# ***`a. Fit a logistic regression model that uses income and balance to predict default.`***"
      ]
    },
    {
      "cell_type": "code",
      "metadata": {
        "colab": {
          "base_uri": "https://localhost:8080/",
          "height": 405
        },
        "id": "Try_5qSy_pp7",
        "outputId": "1cd1cdae-78c6-4480-db2c-faac1e7adb12"
      },
      "source": [
        "Logis_Model = smf.logit(\"binary_default ~ balance+income\", data=Default_Data)\n",
        "Logis_Model = Logis_Model.fit()\n",
        "Logis_Model.summary()"
      ],
      "execution_count": null,
      "outputs": [
        {
          "output_type": "stream",
          "text": [
            "Optimization terminated successfully.\n",
            "         Current function value: 0.078948\n",
            "         Iterations 10\n"
          ],
          "name": "stdout"
        },
        {
          "output_type": "execute_result",
          "data": {
            "text/html": [
              "<table class=\"simpletable\">\n",
              "<caption>Logit Regression Results</caption>\n",
              "<tr>\n",
              "  <th>Dep. Variable:</th>    <td>binary_default</td>  <th>  No. Observations:  </th>   <td> 10000</td>  \n",
              "</tr>\n",
              "<tr>\n",
              "  <th>Model:</th>                 <td>Logit</td>      <th>  Df Residuals:      </th>   <td>  9997</td>  \n",
              "</tr>\n",
              "<tr>\n",
              "  <th>Method:</th>                 <td>MLE</td>       <th>  Df Model:          </th>   <td>     2</td>  \n",
              "</tr>\n",
              "<tr>\n",
              "  <th>Date:</th>            <td>Wed, 25 Nov 2020</td> <th>  Pseudo R-squ.:     </th>   <td>0.4594</td>  \n",
              "</tr>\n",
              "<tr>\n",
              "  <th>Time:</th>                <td>01:28:15</td>     <th>  Log-Likelihood:    </th>  <td> -789.48</td> \n",
              "</tr>\n",
              "<tr>\n",
              "  <th>converged:</th>             <td>True</td>       <th>  LL-Null:           </th>  <td> -1460.3</td> \n",
              "</tr>\n",
              "<tr>\n",
              "  <th>Covariance Type:</th>     <td>nonrobust</td>    <th>  LLR p-value:       </th> <td>4.541e-292</td>\n",
              "</tr>\n",
              "</table>\n",
              "<table class=\"simpletable\">\n",
              "<tr>\n",
              "      <td></td>         <th>coef</th>     <th>std err</th>      <th>z</th>      <th>P>|z|</th>  <th>[0.025</th>    <th>0.975]</th>  \n",
              "</tr>\n",
              "<tr>\n",
              "  <th>Intercept</th> <td>  -11.5405</td> <td>    0.435</td> <td>  -26.544</td> <td> 0.000</td> <td>  -12.393</td> <td>  -10.688</td>\n",
              "</tr>\n",
              "<tr>\n",
              "  <th>balance</th>   <td>    0.0056</td> <td>    0.000</td> <td>   24.835</td> <td> 0.000</td> <td>    0.005</td> <td>    0.006</td>\n",
              "</tr>\n",
              "<tr>\n",
              "  <th>income</th>    <td> 2.081e-05</td> <td> 4.99e-06</td> <td>    4.174</td> <td> 0.000</td> <td>  1.1e-05</td> <td> 3.06e-05</td>\n",
              "</tr>\n",
              "</table><br/><br/>Possibly complete quasi-separation: A fraction 0.14 of observations can be<br/>perfectly predicted. This might indicate that there is complete<br/>quasi-separation. In this case some parameters will not be identified."
            ],
            "text/plain": [
              "<class 'statsmodels.iolib.summary.Summary'>\n",
              "\"\"\"\n",
              "                           Logit Regression Results                           \n",
              "==============================================================================\n",
              "Dep. Variable:         binary_default   No. Observations:                10000\n",
              "Model:                          Logit   Df Residuals:                     9997\n",
              "Method:                           MLE   Df Model:                            2\n",
              "Date:                Wed, 25 Nov 2020   Pseudo R-squ.:                  0.4594\n",
              "Time:                        01:28:15   Log-Likelihood:                -789.48\n",
              "converged:                       True   LL-Null:                       -1460.3\n",
              "Covariance Type:            nonrobust   LLR p-value:                4.541e-292\n",
              "==============================================================================\n",
              "                 coef    std err          z      P>|z|      [0.025      0.975]\n",
              "------------------------------------------------------------------------------\n",
              "Intercept    -11.5405      0.435    -26.544      0.000     -12.393     -10.688\n",
              "balance        0.0056      0.000     24.835      0.000       0.005       0.006\n",
              "income      2.081e-05   4.99e-06      4.174      0.000     1.1e-05    3.06e-05\n",
              "==============================================================================\n",
              "\n",
              "Possibly complete quasi-separation: A fraction 0.14 of observations can be\n",
              "perfectly predicted. This might indicate that there is complete\n",
              "quasi-separation. In this case some parameters will not be identified.\n",
              "\"\"\""
            ]
          },
          "metadata": {
            "tags": []
          },
          "execution_count": 10
        }
      ]
    },
    {
      "cell_type": "markdown",
      "metadata": {
        "id": "QTyRyrYyxMsz"
      },
      "source": [
        "# ***`b. Using the validation set approach, estimate the test error of this model. In order to do this, you must perform the following steps:`***"
      ]
    },
    {
      "cell_type": "markdown",
      "metadata": {
        "id": "RJv9opyKyd0X"
      },
      "source": [
        "# ***`i. Split the sample set into a training set and a validation set.`***"
      ]
    },
    {
      "cell_type": "code",
      "metadata": {
        "id": "ID3qJOlmClmH"
      },
      "source": [
        "x = Default_Data[[\"balance\", \"income\"]]\n",
        "y = Default_Data[\"binary_default\"]\n",
        "x_train, x_test, y_train, y_test = train_test_split(x, y, shuffle=True, test_size = 0.3)"
      ],
      "execution_count": null,
      "outputs": []
    },
    {
      "cell_type": "markdown",
      "metadata": {
        "id": "6DBEs19Myiin"
      },
      "source": [
        "# ***`ii. Fit a multiple logistic regression model using only the training observations.`***"
      ]
    },
    {
      "cell_type": "code",
      "metadata": {
        "colab": {
          "base_uri": "https://localhost:8080/"
        },
        "id": "PpHgW_RJFR7w",
        "outputId": "6da6d99e-4349-4466-cbe3-d59dbd883189"
      },
      "source": [
        "train_model = sm.Logit(y_train,x_train)\n",
        "train_logit = train_model.fit()"
      ],
      "execution_count": null,
      "outputs": [
        {
          "output_type": "stream",
          "text": [
            "Optimization terminated successfully.\n",
            "         Current function value: 0.169757\n",
            "         Iterations 8\n"
          ],
          "name": "stdout"
        }
      ]
    },
    {
      "cell_type": "markdown",
      "metadata": {
        "id": "yIzRvk_OyoFP"
      },
      "source": [
        "# ***`iii. Obtain a prediction of default status for each individual in the validation set by computing the posterior probability of default for that individual, and classifying the individual to the default category if the posterior probability is greater than 0.5.`***"
      ]
    },
    {
      "cell_type": "code",
      "metadata": {
        "id": "PLQU_vAiF8hX"
      },
      "source": [
        "y_predicted = np.array(train_logit.predict(x_test) > 0.5, dtype=float)"
      ],
      "execution_count": null,
      "outputs": []
    },
    {
      "cell_type": "markdown",
      "metadata": {
        "id": "jKR69WLbyxS-"
      },
      "source": [
        "# ***`iv. Compute the validation set error, which is the fraction of the observations in the validation set that are misclassified.`***"
      ]
    },
    {
      "cell_type": "code",
      "metadata": {
        "colab": {
          "base_uri": "https://localhost:8080/"
        },
        "id": "htUTlNnaGdsV",
        "outputId": "86de2cad-dca3-4b1c-a58a-210db0fdf097"
      },
      "source": [
        "error_rate = np.mean(y_predicted != y_test)\n",
        "error_rate"
      ],
      "execution_count": null,
      "outputs": [
        {
          "output_type": "execute_result",
          "data": {
            "text/plain": [
              "0.036"
            ]
          },
          "metadata": {
            "tags": []
          },
          "execution_count": 26
        }
      ]
    },
    {
      "cell_type": "markdown",
      "metadata": {
        "id": "xGpCaviIy3e_"
      },
      "source": [
        "# ***`c. Repeat the process in (b) three times, using three different splits of the observations into a training set and a validation set. Comment on the results obtained.`***"
      ]
    },
    {
      "cell_type": "code",
      "metadata": {
        "colab": {
          "base_uri": "https://localhost:8080/"
        },
        "id": "VPiny45KGlGL",
        "outputId": "112f0e58-bb6c-46c2-9166-8bb1ddb68780"
      },
      "source": [
        "for i in range(1, 4):\n",
        "  np.random.seed(i)\n",
        "  x_train, x_test, y_train, y_test = train_test_split(x, y, shuffle=True, test_size = 0.3)\n",
        "  train_model = sm.Logit(y_train,x_train)\n",
        "  train_logit = train_model.fit()\n",
        "  y_predicted = np.array(train_logit.predict(x_test) > 0.5, dtype=float)\n",
        "  error_rate = np.mean(y_predicted != y_test)\n",
        "  print(\"Error of time\",i, \": \",error_rate)"
      ],
      "execution_count": null,
      "outputs": [
        {
          "output_type": "stream",
          "text": [
            "Optimization terminated successfully.\n",
            "         Current function value: 0.180484\n",
            "         Iterations 8\n",
            "Error of time 1 :  0.030333333333333334\n",
            "Optimization terminated successfully.\n",
            "         Current function value: 0.184689\n",
            "         Iterations 8\n",
            "Error of time 2 :  0.026\n",
            "Optimization terminated successfully.\n",
            "         Current function value: 0.170947\n",
            "         Iterations 8\n",
            "Error of time 3 :  0.035666666666666666\n"
          ],
          "name": "stdout"
        }
      ]
    },
    {
      "cell_type": "markdown",
      "metadata": {
        "id": "uwdzrwGKy9DG"
      },
      "source": [
        "# ***`d. Now consider a logistic regression model that predicts the probability of default using income, balance, and a dummy variable for student. Estimate the test error for this model using the validation set approach. Comment on whether or not including a dummy variable for student leads to a reduction in the test error rate.`***"
      ]
    },
    {
      "cell_type": "code",
      "metadata": {
        "colab": {
          "base_uri": "https://localhost:8080/",
          "height": 419
        },
        "id": "vd6GvD4uJM6l",
        "outputId": "5a675397-9ed6-4f70-b025-a785b2e40287"
      },
      "source": [
        "Default_Data[\"dumpy_student\"] = Default_Data[\"student\"].map({'Yes':1, \"No\":0})\n",
        "Default_Data"
      ],
      "execution_count": null,
      "outputs": [
        {
          "output_type": "execute_result",
          "data": {
            "text/html": [
              "<div>\n",
              "<style scoped>\n",
              "    .dataframe tbody tr th:only-of-type {\n",
              "        vertical-align: middle;\n",
              "    }\n",
              "\n",
              "    .dataframe tbody tr th {\n",
              "        vertical-align: top;\n",
              "    }\n",
              "\n",
              "    .dataframe thead th {\n",
              "        text-align: right;\n",
              "    }\n",
              "</style>\n",
              "<table border=\"1\" class=\"dataframe\">\n",
              "  <thead>\n",
              "    <tr style=\"text-align: right;\">\n",
              "      <th></th>\n",
              "      <th>default</th>\n",
              "      <th>student</th>\n",
              "      <th>balance</th>\n",
              "      <th>income</th>\n",
              "      <th>binary_default</th>\n",
              "      <th>dumpy_student</th>\n",
              "    </tr>\n",
              "  </thead>\n",
              "  <tbody>\n",
              "    <tr>\n",
              "      <th>0</th>\n",
              "      <td>No</td>\n",
              "      <td>No</td>\n",
              "      <td>729.526495</td>\n",
              "      <td>44361.625074</td>\n",
              "      <td>0</td>\n",
              "      <td>0</td>\n",
              "    </tr>\n",
              "    <tr>\n",
              "      <th>1</th>\n",
              "      <td>No</td>\n",
              "      <td>Yes</td>\n",
              "      <td>817.180407</td>\n",
              "      <td>12106.134700</td>\n",
              "      <td>0</td>\n",
              "      <td>1</td>\n",
              "    </tr>\n",
              "    <tr>\n",
              "      <th>2</th>\n",
              "      <td>No</td>\n",
              "      <td>No</td>\n",
              "      <td>1073.549164</td>\n",
              "      <td>31767.138947</td>\n",
              "      <td>0</td>\n",
              "      <td>0</td>\n",
              "    </tr>\n",
              "    <tr>\n",
              "      <th>3</th>\n",
              "      <td>No</td>\n",
              "      <td>No</td>\n",
              "      <td>529.250605</td>\n",
              "      <td>35704.493935</td>\n",
              "      <td>0</td>\n",
              "      <td>0</td>\n",
              "    </tr>\n",
              "    <tr>\n",
              "      <th>4</th>\n",
              "      <td>No</td>\n",
              "      <td>No</td>\n",
              "      <td>785.655883</td>\n",
              "      <td>38463.495879</td>\n",
              "      <td>0</td>\n",
              "      <td>0</td>\n",
              "    </tr>\n",
              "    <tr>\n",
              "      <th>...</th>\n",
              "      <td>...</td>\n",
              "      <td>...</td>\n",
              "      <td>...</td>\n",
              "      <td>...</td>\n",
              "      <td>...</td>\n",
              "      <td>...</td>\n",
              "    </tr>\n",
              "    <tr>\n",
              "      <th>9995</th>\n",
              "      <td>No</td>\n",
              "      <td>No</td>\n",
              "      <td>711.555020</td>\n",
              "      <td>52992.378914</td>\n",
              "      <td>0</td>\n",
              "      <td>0</td>\n",
              "    </tr>\n",
              "    <tr>\n",
              "      <th>9996</th>\n",
              "      <td>No</td>\n",
              "      <td>No</td>\n",
              "      <td>757.962918</td>\n",
              "      <td>19660.721768</td>\n",
              "      <td>0</td>\n",
              "      <td>0</td>\n",
              "    </tr>\n",
              "    <tr>\n",
              "      <th>9997</th>\n",
              "      <td>No</td>\n",
              "      <td>No</td>\n",
              "      <td>845.411989</td>\n",
              "      <td>58636.156984</td>\n",
              "      <td>0</td>\n",
              "      <td>0</td>\n",
              "    </tr>\n",
              "    <tr>\n",
              "      <th>9998</th>\n",
              "      <td>No</td>\n",
              "      <td>No</td>\n",
              "      <td>1569.009053</td>\n",
              "      <td>36669.112365</td>\n",
              "      <td>0</td>\n",
              "      <td>0</td>\n",
              "    </tr>\n",
              "    <tr>\n",
              "      <th>9999</th>\n",
              "      <td>No</td>\n",
              "      <td>Yes</td>\n",
              "      <td>200.922183</td>\n",
              "      <td>16862.952321</td>\n",
              "      <td>0</td>\n",
              "      <td>1</td>\n",
              "    </tr>\n",
              "  </tbody>\n",
              "</table>\n",
              "<p>10000 rows × 6 columns</p>\n",
              "</div>"
            ],
            "text/plain": [
              "     default student      balance        income  binary_default  dumpy_student\n",
              "0         No      No   729.526495  44361.625074               0              0\n",
              "1         No     Yes   817.180407  12106.134700               0              1\n",
              "2         No      No  1073.549164  31767.138947               0              0\n",
              "3         No      No   529.250605  35704.493935               0              0\n",
              "4         No      No   785.655883  38463.495879               0              0\n",
              "...      ...     ...          ...           ...             ...            ...\n",
              "9995      No      No   711.555020  52992.378914               0              0\n",
              "9996      No      No   757.962918  19660.721768               0              0\n",
              "9997      No      No   845.411989  58636.156984               0              0\n",
              "9998      No      No  1569.009053  36669.112365               0              0\n",
              "9999      No     Yes   200.922183  16862.952321               0              1\n",
              "\n",
              "[10000 rows x 6 columns]"
            ]
          },
          "metadata": {
            "tags": []
          },
          "execution_count": 35
        }
      ]
    },
    {
      "cell_type": "code",
      "metadata": {
        "colab": {
          "base_uri": "https://localhost:8080/"
        },
        "id": "Q4BLivVAKD-S",
        "outputId": "fed3c931-be89-4ea1-b236-32f318634d82"
      },
      "source": [
        "x = Default_Data[[\"balance\", \"income\", \"dumpy_student\"]]\n",
        "y = Default_Data[\"binary_default\"]\n",
        "x_train, x_test, y_train, y_test = train_test_split(x, y, shuffle=True, test_size = 0.3)\n",
        "train_model = sm.Logit(y_train,x_train)\n",
        "train_logit = train_model.fit()\n",
        "y_predicted = np.array(train_logit.predict(x_test) > 0.5, dtype=float)\n",
        "error_rate = np.mean(y_predicted != y_test)"
      ],
      "execution_count": null,
      "outputs": [
        {
          "output_type": "stream",
          "text": [
            "Optimization terminated successfully.\n",
            "         Current function value: 0.121156\n",
            "         Iterations 9\n"
          ],
          "name": "stdout"
        }
      ]
    }
  ]
}